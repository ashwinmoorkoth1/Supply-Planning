{
 "cells": [
  {
   "cell_type": "markdown",
   "id": "32a61f94",
   "metadata": {},
   "source": [
    "___\n",
    "# Supply Planning - Logic\n",
    "\n",
    "The below is the logic for Net Requirements calculations for finished goods in a company\n",
    "\n",
    "About the company :\n",
    "The company has 4 regions of operations which has decicated planning and fulfilment network.\n",
    "In total including all regions we plan for about 4000SKU's\n",
    "\n",
    "All data generated are dummy data. The idea of the project is to show how net requirements planning is carried out (MRP)\n",
    "\n",
    "## Data used as input to the process\n",
    "\n",
    "> Forecast - Region, SKU level\n",
    "\n",
    "> Inventory Current - Region, SKU level\n",
    "\n",
    "> Pruchase Orders - Region, SKU level\n",
    "\n",
    "> Transfer Orders - Region, SKU level\n",
    "\n",
    "> MTD sales for consumption - Region, SKU level\n",
    "\n",
    "> Master data - Categories\n",
    "\n",
    "> Planning data - Target stockdays, Lead time\n",
    "\n",
    "## We consider a monthly planning cycle in the below (weekly or daily has similar process)"
   ]
  },
  {
   "cell_type": "code",
   "execution_count": 13,
   "id": "109d3f96",
   "metadata": {},
   "outputs": [],
   "source": [
    "options(\"scipen\"=100, \"digits\"=4)\n",
    "options(scipen = 999)\n",
    "library(tidyverse)\n",
    "library(lubridate)\n",
    "library(readxl)\n",
    "library(foreach)\n",
    "library(doParallel)\n",
    "library(zoo)\n",
    "options(warn=-1)"
   ]
  },
  {
   "cell_type": "markdown",
   "id": "58706e13",
   "metadata": {},
   "source": [
    "> There are two modes to run the report.\n",
    "> 1. Reorder point calculation : Normal montly ROP for a longer horizon\n",
    "> 2. Availaibility reporting : This has stringent constraints to check on availability (shorter time period)"
   ]
  },
  {
   "cell_type": "code",
   "execution_count": 14,
   "id": "be135d36",
   "metadata": {},
   "outputs": [],
   "source": [
    "duration <- 12\n",
    "#duration <- 5\n",
    "plan <- c(\"Region 1\",\"Region 2\",\"Region 3\",\"Region 4\")\n",
    "report <- \"ROP\"\n",
    "#report <- \"OOS\""
   ]
  },
  {
   "cell_type": "markdown",
   "id": "b9d82d09",
   "metadata": {},
   "source": [
    "## Data Loading and Cleaning"
   ]
  },
  {
   "cell_type": "code",
   "execution_count": 15,
   "id": "ec0190b4",
   "metadata": {},
   "outputs": [],
   "source": [
    "#Forecast\n",
    "forecast <- read_xlsx(\"Data.xlsx\", sheet=\"Forecast\") %>% \n",
    "  mutate(Date = as.Date(Date)) %>% filter(Forecast.CA > 0)\n",
    "names(forecast) <- make.names(names(forecast))"
   ]
  },
  {
   "cell_type": "code",
   "execution_count": 16,
   "id": "1fef63a4",
   "metadata": {},
   "outputs": [
    {
     "data": {
      "text/html": [
       "<table>\n",
       "<thead><tr><th scope=col>SKU</th><th scope=col>Date</th><th scope=col>Plan</th><th scope=col>Forecast.CA</th></tr></thead>\n",
       "<tbody>\n",
       "\t<tr><td>Product 651</td><td>2022-06-01 </td><td>Region 1   </td><td> 6         </td></tr>\n",
       "\t<tr><td>Product 651</td><td>2022-07-01 </td><td>Region 1   </td><td> 6         </td></tr>\n",
       "\t<tr><td>Product 651</td><td>2022-09-01 </td><td>Region 1   </td><td> 7         </td></tr>\n",
       "\t<tr><td>Product 651</td><td>2022-08-01 </td><td>Region 1   </td><td> 7         </td></tr>\n",
       "\t<tr><td>Product 651</td><td>2022-05-01 </td><td>Region 1   </td><td> 8         </td></tr>\n",
       "\t<tr><td>Product 651</td><td>2021-07-01 </td><td>Region 1   </td><td>20         </td></tr>\n",
       "</tbody>\n",
       "</table>\n"
      ],
      "text/latex": [
       "\\begin{tabular}{r|llll}\n",
       " SKU & Date & Plan & Forecast.CA\\\\\n",
       "\\hline\n",
       "\t Product 651 & 2022-06-01  & Region 1    &  6         \\\\\n",
       "\t Product 651 & 2022-07-01  & Region 1    &  6         \\\\\n",
       "\t Product 651 & 2022-09-01  & Region 1    &  7         \\\\\n",
       "\t Product 651 & 2022-08-01  & Region 1    &  7         \\\\\n",
       "\t Product 651 & 2022-05-01  & Region 1    &  8         \\\\\n",
       "\t Product 651 & 2021-07-01  & Region 1    & 20         \\\\\n",
       "\\end{tabular}\n"
      ],
      "text/markdown": [
       "\n",
       "| SKU | Date | Plan | Forecast.CA |\n",
       "|---|---|---|---|\n",
       "| Product 651 | 2022-06-01  | Region 1    |  6          |\n",
       "| Product 651 | 2022-07-01  | Region 1    |  6          |\n",
       "| Product 651 | 2022-09-01  | Region 1    |  7          |\n",
       "| Product 651 | 2022-08-01  | Region 1    |  7          |\n",
       "| Product 651 | 2022-05-01  | Region 1    |  8          |\n",
       "| Product 651 | 2021-07-01  | Region 1    | 20          |\n",
       "\n"
      ],
      "text/plain": [
       "  SKU         Date       Plan     Forecast.CA\n",
       "1 Product 651 2022-06-01 Region 1  6         \n",
       "2 Product 651 2022-07-01 Region 1  6         \n",
       "3 Product 651 2022-09-01 Region 1  7         \n",
       "4 Product 651 2022-08-01 Region 1  7         \n",
       "5 Product 651 2022-05-01 Region 1  8         \n",
       "6 Product 651 2021-07-01 Region 1 20         "
      ]
     },
     "metadata": {},
     "output_type": "display_data"
    }
   ],
   "source": [
    "head(forecast)"
   ]
  },
  {
   "cell_type": "code",
   "execution_count": 17,
   "id": "58db4e01",
   "metadata": {},
   "outputs": [],
   "source": [
    "#Sales\n",
    "sales <- read_xlsx(\"Data.xlsx\", sheet=\"Sales\") %>%\n",
    "  mutate(Date = as.Date(Date))\n",
    "names(sales) <- make.names(names(sales))"
   ]
  },
  {
   "cell_type": "code",
   "execution_count": 18,
   "id": "29e4ff8d",
   "metadata": {},
   "outputs": [
    {
     "data": {
      "text/html": [
       "<table>\n",
       "<thead><tr><th scope=col>SKU</th><th scope=col>Date</th><th scope=col>Plan</th><th scope=col>Sales.CA</th></tr></thead>\n",
       "<tbody>\n",
       "\t<tr><td>Product 651</td><td>2021-04-01 </td><td>Region 1   </td><td>  3        </td></tr>\n",
       "\t<tr><td>Product 651</td><td>2021-06-01 </td><td>Region 1   </td><td>  6        </td></tr>\n",
       "\t<tr><td>Product 651</td><td>2021-05-01 </td><td>Region 1   </td><td> 15        </td></tr>\n",
       "\t<tr><td>Product 651</td><td>2021-07-01 </td><td>Region 1   </td><td>100        </td></tr>\n",
       "\t<tr><td>Product 652</td><td>2021-04-01 </td><td>Region 1   </td><td>134        </td></tr>\n",
       "\t<tr><td>Product 652</td><td>2021-05-01 </td><td>Region 1   </td><td>205        </td></tr>\n",
       "</tbody>\n",
       "</table>\n"
      ],
      "text/latex": [
       "\\begin{tabular}{r|llll}\n",
       " SKU & Date & Plan & Sales.CA\\\\\n",
       "\\hline\n",
       "\t Product 651 & 2021-04-01  & Region 1    &   3        \\\\\n",
       "\t Product 651 & 2021-06-01  & Region 1    &   6        \\\\\n",
       "\t Product 651 & 2021-05-01  & Region 1    &  15        \\\\\n",
       "\t Product 651 & 2021-07-01  & Region 1    & 100        \\\\\n",
       "\t Product 652 & 2021-04-01  & Region 1    & 134        \\\\\n",
       "\t Product 652 & 2021-05-01  & Region 1    & 205        \\\\\n",
       "\\end{tabular}\n"
      ],
      "text/markdown": [
       "\n",
       "| SKU | Date | Plan | Sales.CA |\n",
       "|---|---|---|---|\n",
       "| Product 651 | 2021-04-01  | Region 1    |   3         |\n",
       "| Product 651 | 2021-06-01  | Region 1    |   6         |\n",
       "| Product 651 | 2021-05-01  | Region 1    |  15         |\n",
       "| Product 651 | 2021-07-01  | Region 1    | 100         |\n",
       "| Product 652 | 2021-04-01  | Region 1    | 134         |\n",
       "| Product 652 | 2021-05-01  | Region 1    | 205         |\n",
       "\n"
      ],
      "text/plain": [
       "  SKU         Date       Plan     Sales.CA\n",
       "1 Product 651 2021-04-01 Region 1   3     \n",
       "2 Product 651 2021-06-01 Region 1   6     \n",
       "3 Product 651 2021-05-01 Region 1  15     \n",
       "4 Product 651 2021-07-01 Region 1 100     \n",
       "5 Product 652 2021-04-01 Region 1 134     \n",
       "6 Product 652 2021-05-01 Region 1 205     "
      ]
     },
     "metadata": {},
     "output_type": "display_data"
    }
   ],
   "source": [
    "head(sales)"
   ]
  },
  {
   "cell_type": "code",
   "execution_count": 19,
   "id": "478ac43a",
   "metadata": {},
   "outputs": [],
   "source": [
    "#Inventory\n",
    "inventory <- read_xlsx(\"Data.xlsx\", sheet=\"Inventory\") %>% mutate(Date = Sys.Date())\n",
    "names(inventory) <- make.names(names(inventory))"
   ]
  },
  {
   "cell_type": "code",
   "execution_count": 20,
   "id": "814fea80",
   "metadata": {},
   "outputs": [
    {
     "data": {
      "text/html": [
       "<table>\n",
       "<thead><tr><th scope=col>SKU</th><th scope=col>Plan</th><th scope=col>Stock.CA</th><th scope=col>Date</th></tr></thead>\n",
       "<tbody>\n",
       "\t<tr><td>Product 650 </td><td>Region 1    </td><td>  8.0       </td><td>2021-07-14  </td></tr>\n",
       "\t<tr><td>Product 651 </td><td>Region 1    </td><td> 10.0       </td><td>2021-07-14  </td></tr>\n",
       "\t<tr><td>Product 652 </td><td>Region 1    </td><td>115.0       </td><td>2021-07-14  </td></tr>\n",
       "\t<tr><td>Product 653 </td><td>Region 1    </td><td>511.3       </td><td>2021-07-14  </td></tr>\n",
       "\t<tr><td>Product 664 </td><td>Region 1    </td><td>524.1       </td><td>2021-07-14  </td></tr>\n",
       "\t<tr><td>Product 5147</td><td>Region 1    </td><td> 20.0       </td><td>2021-07-14  </td></tr>\n",
       "</tbody>\n",
       "</table>\n"
      ],
      "text/latex": [
       "\\begin{tabular}{r|llll}\n",
       " SKU & Plan & Stock.CA & Date\\\\\n",
       "\\hline\n",
       "\t Product 650  & Region 1     &   8.0        & 2021-07-14  \\\\\n",
       "\t Product 651  & Region 1     &  10.0        & 2021-07-14  \\\\\n",
       "\t Product 652  & Region 1     & 115.0        & 2021-07-14  \\\\\n",
       "\t Product 653  & Region 1     & 511.3        & 2021-07-14  \\\\\n",
       "\t Product 664  & Region 1     & 524.1        & 2021-07-14  \\\\\n",
       "\t Product 5147 & Region 1     &  20.0        & 2021-07-14  \\\\\n",
       "\\end{tabular}\n"
      ],
      "text/markdown": [
       "\n",
       "| SKU | Plan | Stock.CA | Date |\n",
       "|---|---|---|---|\n",
       "| Product 650  | Region 1     |   8.0        | 2021-07-14   |\n",
       "| Product 651  | Region 1     |  10.0        | 2021-07-14   |\n",
       "| Product 652  | Region 1     | 115.0        | 2021-07-14   |\n",
       "| Product 653  | Region 1     | 511.3        | 2021-07-14   |\n",
       "| Product 664  | Region 1     | 524.1        | 2021-07-14   |\n",
       "| Product 5147 | Region 1     |  20.0        | 2021-07-14   |\n",
       "\n"
      ],
      "text/plain": [
       "  SKU          Plan     Stock.CA Date      \n",
       "1 Product 650  Region 1   8.0    2021-07-14\n",
       "2 Product 651  Region 1  10.0    2021-07-14\n",
       "3 Product 652  Region 1 115.0    2021-07-14\n",
       "4 Product 653  Region 1 511.3    2021-07-14\n",
       "5 Product 664  Region 1 524.1    2021-07-14\n",
       "6 Product 5147 Region 1  20.0    2021-07-14"
      ]
     },
     "metadata": {},
     "output_type": "display_data"
    }
   ],
   "source": [
    "head(inventory)"
   ]
  },
  {
   "cell_type": "code",
   "execution_count": 21,
   "id": "a221021b",
   "metadata": {},
   "outputs": [],
   "source": [
    "#Purchase and Transfer\n",
    "purchase <- read_xlsx(\"Data.xlsx\", sheet=\"Purchase\") %>% mutate(Date = as.Date(Date))\n",
    "names(purchase) <- make.names(names(purchase))"
   ]
  },
  {
   "cell_type": "code",
   "execution_count": 22,
   "id": "aed2f387",
   "metadata": {},
   "outputs": [
    {
     "data": {
      "text/html": [
       "<table>\n",
       "<thead><tr><th scope=col>SKU</th><th scope=col>Order.Type</th><th scope=col>Plan</th><th scope=col>Date</th><th scope=col>Purchase.CA</th></tr></thead>\n",
       "<tbody>\n",
       "\t<tr><td>Product 650</td><td>OT         </td><td>Region 1   </td><td>2021-06-25 </td><td>  0        </td></tr>\n",
       "\t<tr><td>Product 651</td><td>OT         </td><td>Region 1   </td><td>2021-07-05 </td><td>  0        </td></tr>\n",
       "\t<tr><td>Product 651</td><td>OT         </td><td>Region 1   </td><td>2022-01-10 </td><td>  0        </td></tr>\n",
       "\t<tr><td>Product 652</td><td>OP         </td><td>Region 1   </td><td>2021-07-20 </td><td>601        </td></tr>\n",
       "\t<tr><td>Product 652</td><td>OP         </td><td>Region 1   </td><td>2021-09-20 </td><td>900        </td></tr>\n",
       "\t<tr><td>Product 652</td><td>OT         </td><td>Region 1   </td><td>2021-06-25 </td><td>  0        </td></tr>\n",
       "</tbody>\n",
       "</table>\n"
      ],
      "text/latex": [
       "\\begin{tabular}{r|lllll}\n",
       " SKU & Order.Type & Plan & Date & Purchase.CA\\\\\n",
       "\\hline\n",
       "\t Product 650 & OT          & Region 1    & 2021-06-25  &   0        \\\\\n",
       "\t Product 651 & OT          & Region 1    & 2021-07-05  &   0        \\\\\n",
       "\t Product 651 & OT          & Region 1    & 2022-01-10  &   0        \\\\\n",
       "\t Product 652 & OP          & Region 1    & 2021-07-20  & 601        \\\\\n",
       "\t Product 652 & OP          & Region 1    & 2021-09-20  & 900        \\\\\n",
       "\t Product 652 & OT          & Region 1    & 2021-06-25  &   0        \\\\\n",
       "\\end{tabular}\n"
      ],
      "text/markdown": [
       "\n",
       "| SKU | Order.Type | Plan | Date | Purchase.CA |\n",
       "|---|---|---|---|---|\n",
       "| Product 650 | OT          | Region 1    | 2021-06-25  |   0         |\n",
       "| Product 651 | OT          | Region 1    | 2021-07-05  |   0         |\n",
       "| Product 651 | OT          | Region 1    | 2022-01-10  |   0         |\n",
       "| Product 652 | OP          | Region 1    | 2021-07-20  | 601         |\n",
       "| Product 652 | OP          | Region 1    | 2021-09-20  | 900         |\n",
       "| Product 652 | OT          | Region 1    | 2021-06-25  |   0         |\n",
       "\n"
      ],
      "text/plain": [
       "  SKU         Order.Type Plan     Date       Purchase.CA\n",
       "1 Product 650 OT         Region 1 2021-06-25   0        \n",
       "2 Product 651 OT         Region 1 2021-07-05   0        \n",
       "3 Product 651 OT         Region 1 2022-01-10   0        \n",
       "4 Product 652 OP         Region 1 2021-07-20 601        \n",
       "5 Product 652 OP         Region 1 2021-09-20 900        \n",
       "6 Product 652 OT         Region 1 2021-06-25   0        "
      ]
     },
     "metadata": {},
     "output_type": "display_data"
    }
   ],
   "source": [
    "head(purchase)"
   ]
  },
  {
   "cell_type": "code",
   "execution_count": 23,
   "id": "5e5ab3ba",
   "metadata": {},
   "outputs": [
    {
     "name": "stderr",
     "output_type": "stream",
     "text": [
      "New names:\n",
      "* Desc -> Desc...4\n",
      "* Desc -> Desc...5\n"
     ]
    }
   ],
   "source": [
    "#Master Data\n",
    "master <- read_xlsx(\"Data.xlsx\", sheet=\"Master\")\n",
    "names(master) <- make.names(names(master))"
   ]
  },
  {
   "cell_type": "code",
   "execution_count": 24,
   "id": "8349fdfe",
   "metadata": {},
   "outputs": [
    {
     "data": {
      "text/html": [
       "<table>\n",
       "<thead><tr><th scope=col>Agency</th><th scope=col>Brand</th><th scope=col>SKU</th><th scope=col>Desc...4</th><th scope=col>Desc...5</th><th scope=col>Super.Category</th><th scope=col>Literage</th><th scope=col>Pack</th></tr></thead>\n",
       "<tbody>\n",
       "\t<tr><td>Supplier 1</td><td>Band 1    </td><td>Product 1 </td><td>Desc 1    </td><td>Desc 12   </td><td>Category 1</td><td>4.5       </td><td>6         </td></tr>\n",
       "\t<tr><td>Supplier 2</td><td>Band 2    </td><td>Product 2 </td><td>Desc 2    </td><td>Desc 13   </td><td>Category 2</td><td>2.1       </td><td>3         </td></tr>\n",
       "\t<tr><td>Supplier 2</td><td>Band 2    </td><td>Product 3 </td><td>Desc 3    </td><td>Desc 14   </td><td>Category 2</td><td>2.1       </td><td>3         </td></tr>\n",
       "\t<tr><td>Supplier 2</td><td>Band 2    </td><td>Product 4 </td><td>Desc 4    </td><td>Desc 15   </td><td>Category 2</td><td>6.0       </td><td>6         </td></tr>\n",
       "\t<tr><td>Supplier 2</td><td>Band 2    </td><td>Product 5 </td><td>Desc 5    </td><td>Desc 16   </td><td>Category 2</td><td>6.0       </td><td>6         </td></tr>\n",
       "\t<tr><td>Supplier 2</td><td>Band 2    </td><td>Product 6 </td><td>Desc 6    </td><td>Desc 17   </td><td>Category 2</td><td>6.0       </td><td>6         </td></tr>\n",
       "</tbody>\n",
       "</table>\n"
      ],
      "text/latex": [
       "\\begin{tabular}{r|llllllll}\n",
       " Agency & Brand & SKU & Desc...4 & Desc...5 & Super.Category & Literage & Pack\\\\\n",
       "\\hline\n",
       "\t Supplier 1 & Band 1     & Product 1  & Desc 1     & Desc 12    & Category 1 & 4.5        & 6         \\\\\n",
       "\t Supplier 2 & Band 2     & Product 2  & Desc 2     & Desc 13    & Category 2 & 2.1        & 3         \\\\\n",
       "\t Supplier 2 & Band 2     & Product 3  & Desc 3     & Desc 14    & Category 2 & 2.1        & 3         \\\\\n",
       "\t Supplier 2 & Band 2     & Product 4  & Desc 4     & Desc 15    & Category 2 & 6.0        & 6         \\\\\n",
       "\t Supplier 2 & Band 2     & Product 5  & Desc 5     & Desc 16    & Category 2 & 6.0        & 6         \\\\\n",
       "\t Supplier 2 & Band 2     & Product 6  & Desc 6     & Desc 17    & Category 2 & 6.0        & 6         \\\\\n",
       "\\end{tabular}\n"
      ],
      "text/markdown": [
       "\n",
       "| Agency | Brand | SKU | Desc...4 | Desc...5 | Super.Category | Literage | Pack |\n",
       "|---|---|---|---|---|---|---|---|\n",
       "| Supplier 1 | Band 1     | Product 1  | Desc 1     | Desc 12    | Category 1 | 4.5        | 6          |\n",
       "| Supplier 2 | Band 2     | Product 2  | Desc 2     | Desc 13    | Category 2 | 2.1        | 3          |\n",
       "| Supplier 2 | Band 2     | Product 3  | Desc 3     | Desc 14    | Category 2 | 2.1        | 3          |\n",
       "| Supplier 2 | Band 2     | Product 4  | Desc 4     | Desc 15    | Category 2 | 6.0        | 6          |\n",
       "| Supplier 2 | Band 2     | Product 5  | Desc 5     | Desc 16    | Category 2 | 6.0        | 6          |\n",
       "| Supplier 2 | Band 2     | Product 6  | Desc 6     | Desc 17    | Category 2 | 6.0        | 6          |\n",
       "\n"
      ],
      "text/plain": [
       "  Agency     Brand  SKU       Desc...4 Desc...5 Super.Category Literage Pack\n",
       "1 Supplier 1 Band 1 Product 1 Desc 1   Desc 12  Category 1     4.5      6   \n",
       "2 Supplier 2 Band 2 Product 2 Desc 2   Desc 13  Category 2     2.1      3   \n",
       "3 Supplier 2 Band 2 Product 3 Desc 3   Desc 14  Category 2     2.1      3   \n",
       "4 Supplier 2 Band 2 Product 4 Desc 4   Desc 15  Category 2     6.0      6   \n",
       "5 Supplier 2 Band 2 Product 5 Desc 5   Desc 16  Category 2     6.0      6   \n",
       "6 Supplier 2 Band 2 Product 6 Desc 6   Desc 17  Category 2     6.0      6   "
      ]
     },
     "metadata": {},
     "output_type": "display_data"
    }
   ],
   "source": [
    "head(master)"
   ]
  },
  {
   "cell_type": "code",
   "execution_count": 25,
   "id": "bcb2038f",
   "metadata": {},
   "outputs": [],
   "source": [
    "#Planning\n",
    "planning <- read_xlsx(\"Data.xlsx\", sheet=\"Planning\")\n",
    "names(planning) <- make.names(names(planning))"
   ]
  },
  {
   "cell_type": "code",
   "execution_count": 26,
   "id": "d9a182d4",
   "metadata": {},
   "outputs": [
    {
     "data": {
      "text/html": [
       "<table>\n",
       "<thead><tr><th scope=col>SKU</th><th scope=col>Master.Planning.Family</th><th scope=col>Plan</th><th scope=col>LT</th><th scope=col>SD</th></tr></thead>\n",
       "<tbody>\n",
       "\t<tr><td>Product 651 </td><td>PDP         </td><td>Region 1    </td><td>85          </td><td>30          </td></tr>\n",
       "\t<tr><td>Product 652 </td><td>PDF         </td><td>Region 1    </td><td>85          </td><td>30          </td></tr>\n",
       "\t<tr><td>Product 653 </td><td>PDF         </td><td>Region 1    </td><td>85          </td><td>30          </td></tr>\n",
       "\t<tr><td>Product 664 </td><td>PDP         </td><td>Region 1    </td><td>85          </td><td>30          </td></tr>\n",
       "\t<tr><td>Product 661 </td><td>PDP         </td><td>Region 1    </td><td>70          </td><td>30          </td></tr>\n",
       "\t<tr><td>Product 3289</td><td>PDF         </td><td>Region 1    </td><td>85          </td><td>30          </td></tr>\n",
       "</tbody>\n",
       "</table>\n"
      ],
      "text/latex": [
       "\\begin{tabular}{r|lllll}\n",
       " SKU & Master.Planning.Family & Plan & LT & SD\\\\\n",
       "\\hline\n",
       "\t Product 651  & PDP          & Region 1     & 85           & 30          \\\\\n",
       "\t Product 652  & PDF          & Region 1     & 85           & 30          \\\\\n",
       "\t Product 653  & PDF          & Region 1     & 85           & 30          \\\\\n",
       "\t Product 664  & PDP          & Region 1     & 85           & 30          \\\\\n",
       "\t Product 661  & PDP          & Region 1     & 70           & 30          \\\\\n",
       "\t Product 3289 & PDF          & Region 1     & 85           & 30          \\\\\n",
       "\\end{tabular}\n"
      ],
      "text/markdown": [
       "\n",
       "| SKU | Master.Planning.Family | Plan | LT | SD |\n",
       "|---|---|---|---|---|\n",
       "| Product 651  | PDP          | Region 1     | 85           | 30           |\n",
       "| Product 652  | PDF          | Region 1     | 85           | 30           |\n",
       "| Product 653  | PDF          | Region 1     | 85           | 30           |\n",
       "| Product 664  | PDP          | Region 1     | 85           | 30           |\n",
       "| Product 661  | PDP          | Region 1     | 70           | 30           |\n",
       "| Product 3289 | PDF          | Region 1     | 85           | 30           |\n",
       "\n"
      ],
      "text/plain": [
       "  SKU          Master.Planning.Family Plan     LT SD\n",
       "1 Product 651  PDP                    Region 1 85 30\n",
       "2 Product 652  PDF                    Region 1 85 30\n",
       "3 Product 653  PDF                    Region 1 85 30\n",
       "4 Product 664  PDP                    Region 1 85 30\n",
       "5 Product 661  PDP                    Region 1 70 30\n",
       "6 Product 3289 PDF                    Region 1 85 30"
      ]
     },
     "metadata": {},
     "output_type": "display_data"
    }
   ],
   "source": [
    "head(planning)"
   ]
  },
  {
   "cell_type": "code",
   "execution_count": 27,
   "id": "0b6116bb",
   "metadata": {},
   "outputs": [
    {
     "data": {
      "text/html": [
       "<time datetime=\"2021-07-01\">2021-07-01</time>"
      ],
      "text/latex": [
       "2021-07-01"
      ],
      "text/markdown": [
       "2021-07-01"
      ],
      "text/plain": [
       "[1] \"2021-07-01\""
      ]
     },
     "metadata": {},
     "output_type": "display_data"
    }
   ],
   "source": [
    "maxdate <- as.Date(cut(Sys.Date(), \"month\"))\n",
    "maxdate"
   ]
  },
  {
   "cell_type": "markdown",
   "id": "eda47625",
   "metadata": {},
   "source": [
    "## Cleaning and Aggregation"
   ]
  },
  {
   "cell_type": "code",
   "execution_count": 28,
   "id": "8499b7b7",
   "metadata": {},
   "outputs": [],
   "source": [
    "forecast <- forecast %>% group_by(SKU, Date, Plan) %>% summarise(Forecast.CA = sum(Forecast.CA)) %>% ungroup()"
   ]
  },
  {
   "cell_type": "code",
   "execution_count": 29,
   "id": "2383fb7c",
   "metadata": {},
   "outputs": [],
   "source": [
    "sales <- sales %>% group_by(SKU, Date, Plan) %>% summarise(Sales.CA = sum(Sales.CA)) %>% ungroup()"
   ]
  },
  {
   "cell_type": "code",
   "execution_count": 30,
   "id": "a05a5bca",
   "metadata": {},
   "outputs": [],
   "source": [
    "planning2510 <- planning %>% filter(Plan ==  \"Region 2\") %>% mutate(Plan = \"Region 3\")\n",
    "planning <- bind_rows(planning, planning2510)"
   ]
  },
  {
   "cell_type": "code",
   "execution_count": 31,
   "id": "e8f2cc80",
   "metadata": {},
   "outputs": [],
   "source": [
    "purchase <- purchase %>% mutate(Date = if_else(Date < maxdate, maxdate,Date)) %>%\n",
    "  group_by(SKU, Date, Order.Type, Plan) %>% summarise(Purchase.CA = sum(Purchase.CA)) %>% ungroup() "
   ]
  },
  {
   "cell_type": "code",
   "execution_count": 32,
   "id": "034912c0",
   "metadata": {},
   "outputs": [],
   "source": [
    "transfer <- purchase %>% filter(Order.Type == \"OT\") %>% mutate(Date = as.Date(cut(Date, \"month\"))) %>%\n",
    "  group_by(SKU, Date, Plan) %>% summarise(Transfer.CA = sum(Purchase.CA)) %>% ungroup()"
   ]
  },
  {
   "cell_type": "code",
   "execution_count": 33,
   "id": "56914362",
   "metadata": {},
   "outputs": [],
   "source": [
    "purchase <- purchase %>% filter(Order.Type == \"OP\") %>% \n",
    "  mutate(Date = as.Date(ifelse(day(Date) > 22, ceiling_date(Date,\"month\"), floor_date(Date,\"month\")))) %>%\n",
    "  group_by(SKU, Date, Plan) %>% summarise(Purchase.CA = sum(Purchase.CA)) %>% ungroup()"
   ]
  },
  {
   "cell_type": "code",
   "execution_count": 34,
   "id": "d40b2ba1",
   "metadata": {},
   "outputs": [],
   "source": [
    "inventory <- inventory %>% group_by(SKU, Date, Plan) %>% summarise(Stock.CA = sum(Stock.CA)) %>% ungroup() %>%\n",
    "  mutate(Date = as.Date(cut(today(), \"month\"))) "
   ]
  },
  {
   "cell_type": "markdown",
   "id": "88e76527",
   "metadata": {},
   "source": [
    "## The daterange and the extractdata function is used to build a planning area"
   ]
  },
  {
   "cell_type": "code",
   "execution_count": 35,
   "id": "e29a8537",
   "metadata": {},
   "outputs": [],
   "source": [
    "#Build the Grid\n",
    "startime <- as.Date(cut(today() - 90, \"month\")) \n",
    "datarange <- seq(startime, by = \"month\", length = 5+duration) "
   ]
  },
  {
   "cell_type": "code",
   "execution_count": 36,
   "id": "b3430d22",
   "metadata": {},
   "outputs": [],
   "source": [
    "extractdata <- function(pln, datarange){\n",
    "  \n",
    "  forecastx <- forecast %>% filter(Plan == pln) %>% select(-Plan)\n",
    "  salesx <- sales %>% filter(Plan == pln) %>% select(-Plan)\n",
    "  inventoryx <- inventory %>% filter(Plan == pln) %>% select(-Plan)\n",
    "  purchasex <- purchase %>% filter(Plan == pln) %>% select(-Plan)\n",
    "  planningx <- planning %>% filter(Plan==pln, LT > 0 ) %>% select(-Plan) \n",
    "\n",
    "  transferx <- transfer %>% filter(Plan==pln) %>% select(-Plan)\n",
    "  \n",
    "  #Step2: Creating a grid with unique set of SKU's and Date Range\n",
    "  skuactive <- unique(forecastx$SKU)\n",
    "  data <- expand.grid(SKU = skuactive, Date = datarange) %>%\n",
    "    arrange(SKU) %>% as.tibble()\n",
    "  \n",
    "  data <- data %>% left_join(master) %>% left_join(planningx) %>%\n",
    "    left_join(salesx) %>% left_join(forecastx) %>% \n",
    "    left_join(inventoryx) %>% left_join(purchasex) %>% left_join(transferx)\n",
    "  error <- data %>% filter(is.na(LT)) %>% mutate(Plan = pln)\n",
    "  data <- data %>% filter(!is.na(LT))\n",
    "  \n",
    "  data <- data %>% mutate(Sales.CA=ifelse(Date <= maxdate & is.na(Sales.CA), 0, Sales.CA)) %>%\n",
    "    mutate(Stock.CA=ifelse(Date <= maxdate & is.na(Stock.CA), 0, Stock.CA)) %>%\n",
    "    mutate(Forecast.CA=ifelse(Date <= maxdate & is.na(Forecast.CA), 0, Forecast.CA)) %>%\n",
    "    mutate(Forecast.CA=ifelse(Date == maxdate, Forecast.CA - Sales.CA, Forecast.CA)) %>%\n",
    "    mutate(Exs.Consump.CA=ifelse(Date == maxdate & Forecast.CA < 0, -1*Forecast.CA, 0)) %>%\n",
    "    mutate(Forecast.CA=ifelse(Date == maxdate & Forecast.CA < 0, 0, Forecast.CA)) %>%\n",
    "    mutate(Forecast.CA=ifelse(Date < maxdate, Sales.CA, Forecast.CA)) %>%\n",
    "    mutate(Purchase.CA=ifelse(is.na(Purchase.CA), 0, Purchase.CA)) %>%\n",
    "    mutate(Transfer.CA=ifelse(is.na(Transfer.CA), 0, Transfer.CA))\n",
    "  \n",
    "  return(data)\n",
    "  \n",
    "}"
   ]
  },
  {
   "cell_type": "markdown",
   "id": "79f3a843",
   "metadata": {},
   "source": [
    "## Once the planning area is created for each region. The below is a Supply planning logic is used. Here a dynamic calculation on stock levels and safety is done based on days of stock."
   ]
  },
  {
   "cell_type": "markdown",
   "id": "17ec6fe7",
   "metadata": {},
   "source": [
    "![](Capture.PNG)"
   ]
  },
  {
   "cell_type": "code",
   "execution_count": 37,
   "id": "fd0fc8e3",
   "metadata": {},
   "outputs": [],
   "source": [
    "ROProcessing <- function(data, maxdate, report){\n",
    "  \n",
    "  avgforecast <- data %>% arrange(SKU,Date) %>% group_by(SKU) %>%\n",
    "    mutate(Avg.CA=rollapply(Forecast.CA,3,mean,align='left',fill=NA)) %>% ungroup() %>%\n",
    "    mutate(Avg.CA=ifelse(is.na(Avg.CA),Forecast.CA,Avg.CA)) %>%\n",
    "    select(SKU, Date, Avg.CA)\n",
    "\n",
    "  data <- data %>% mutate(Planned.CA = 0, Closing.inv.CA = 0) %>% rename(\"Beginning.Inv.CA\" = \"Stock.CA\") %>%\n",
    "    left_join(avgforecast) %>% \n",
    "    mutate(SD.Stocks = SD*Avg.CA/30, StockDays = 0, OOS.CA = 0)\n",
    "    \n",
    "  if(report==\"OOS\"){\n",
    "    data <- data %>% mutate(Time.Fence = as.Date(ifelse(day(today()+LT) > 20, ceiling_date(today() + LT,\"month\"), floor_date(today() + LT,\"month\"))))\n",
    "  }else{\n",
    "    data <- data %>% mutate(Time.Fence = as.Date(cut(today()+LT, \"month\")))\n",
    "  }\n",
    "\n",
    "  temp <- data[data$Date >= maxdate,] %>% arrange(SKU, Date)\n",
    "  data <- data %>% filter(Date < maxdate)\n",
    "  \n",
    "  temp <- temp %>% filter(!is.na(Time.Fence))\n",
    "  temp[is.na(temp)] <- 0\n",
    "  item <- 0\n",
    "  \n",
    "  for (j in 1:length(temp$SKU)){\n",
    "    \n",
    "    item <- temp[j,1]\n",
    "    \n",
    "    #Keeping maxdate as start date for the ROP for an item. This loop looks into case where ordering is legal\n",
    "    if (temp[j,]$Date >= temp[j,]$Time.Fence){\n",
    "      \n",
    "      if (temp[j,]$Date != maxdate){\n",
    "        temp[j,]$Beginning.Inv.CA = temp[j-1,]$Closing.inv.CA\n",
    "      }\n",
    "      \n",
    "      if((temp[j,]$Beginning.Inv.CA + temp[j,]$Purchase.CA + temp[j,]$Transfer.CA - temp[j,]$Forecast.CA) < temp[j,]$SD.Stocks){\n",
    "        temp[j,]$Planned.CA =  temp[j,]$SD.Stocks - (temp[j,]$Beginning.Inv.CA + temp[j,]$Purchase.CA + temp[j,]$Transfer.CA - temp[j,]$Forecast.CA)\n",
    "      }\n",
    "      \n",
    "      #New addition\n",
    "      if(temp[j,]$Planned.CA + temp[j,]$Beginning.Inv.CA + temp[j,]$Purchase.CA + temp[j,]$Transfer.CA - temp[j,]$Forecast.CA < 0){\n",
    "        temp[j,]$Closing.inv.CA = 0\n",
    "        temp[j,]$OOS.CA = -1 * (temp[j,]$Planned.CA + temp[j,]$Beginning.Inv.CA + temp[j,]$Purchase.CA + temp[j,]$Transfer.CA - temp[j,]$Forecast.CA)\n",
    "      }else{\n",
    "        temp[j,]$Closing.inv.CA = temp[j,]$Planned.CA + temp[j,]$Beginning.Inv.CA + temp[j,]$Purchase.CA  + temp[j,]$Transfer.CA - temp[j,]$Forecast.CA\n",
    "      }\n",
    "      #*****\n",
    "      \n",
    "      #The else case looks when the date is less than the time fence and ordering is illegal  \n",
    "    }else if (temp[j,]$Date < temp[j,]$Time.Fence){\n",
    "      \n",
    "      if (temp[j,]$Date != maxdate){\n",
    "        temp[j,]$Beginning.Inv.CA = temp[j-1,]$Closing.inv.CA\n",
    "      }\n",
    "      \n",
    "      if(temp[j,]$Beginning.Inv.CA + temp[j,]$Purchase.CA + temp[j,]$Transfer.CA - temp[j,]$Forecast.CA < 0){\n",
    "        temp[j,]$Closing.inv.CA = 0\n",
    "        temp[j,]$OOS.CA = -1 * (temp[j,]$Beginning.Inv.CA + temp[j,]$Purchase.CA + temp[j,]$Transfer.CA - temp[j,]$Forecast.CA)\n",
    "      }else{\n",
    "        temp[j,]$Closing.inv.CA = temp[j,]$Planned.CA + temp[j,]$Beginning.Inv.CA + temp[j,]$Purchase.CA + temp[j,]$Transfer.CA - temp[j,]$Forecast.CA\n",
    "      }\n",
    "      \n",
    "    }else{\n",
    "      \n",
    "    }\n",
    "    \n",
    "  }\n",
    "\n",
    "  data <- rbind(data, temp) %>% arrange(SKU, Date)\n",
    "  data <- data %>% mutate(StockDays = Closing.inv.CA/(Avg.CA/30)) %>%\n",
    "    mutate(StockDays = ifelse(is.nan(StockDays), 999,StockDays)) %>%\n",
    "    mutate(StockDays = ifelse(is.infinite(StockDays), 999,StockDays)) %>%\n",
    "    mutate(Year = format(Date, \"%Y\"), Month = format(Date, \"%b\")) %>%\n",
    "    mutate(Excess.CA = if_else(Date == Time.Fence &  StockDays > SD, Closing.inv.CA-SD.Stocks,0))\n",
    "    \n",
    "  temp <- data %>% mutate(Date = as.Date(cut(Date - LT, \"month\"))) %>%\n",
    "    mutate(Date = if_else(Date < as.Date(maxdate), as.Date(maxdate), as.Date(Date))) %>%\n",
    "    rename(\"Scheduled.CA\"=\"Planned.CA\") %>% group_by(SKU, Date) %>%\n",
    "    summarise(Scheduled.CA = sum(Scheduled.CA)) %>% ungroup()\n",
    "  \n",
    "  data <- data %>% left_join(temp) %>% mutate(Scheduled.CA = ifelse(is.na(Scheduled.CA),0,Scheduled.CA))\n",
    "\n",
    "  return(data)\n",
    "  \n",
    "}"
   ]
  },
  {
   "cell_type": "markdown",
   "id": "ac56f07b",
   "metadata": {},
   "source": [
    "## Now we run clanning area creation and supply planning logic on each of the plans"
   ]
  },
  {
   "cell_type": "code",
   "execution_count": 38,
   "id": "079cbd35",
   "metadata": {},
   "outputs": [
    {
     "name": "stderr",
     "output_type": "stream",
     "text": [
      "Joining, by = \"SKU\"\n",
      "Joining, by = \"SKU\"\n",
      "Joining, by = c(\"SKU\", \"Date\")\n",
      "Joining, by = c(\"SKU\", \"Date\")\n",
      "Joining, by = c(\"SKU\", \"Date\")\n",
      "Joining, by = c(\"SKU\", \"Date\")\n",
      "Joining, by = c(\"SKU\", \"Date\")\n",
      "Joining, by = c(\"SKU\", \"Date\")\n",
      "Joining, by = c(\"SKU\", \"Date\")\n",
      "Joining, by = \"SKU\"\n",
      "Joining, by = \"SKU\"\n",
      "Joining, by = c(\"SKU\", \"Date\")\n",
      "Joining, by = c(\"SKU\", \"Date\")\n",
      "Joining, by = c(\"SKU\", \"Date\")\n",
      "Joining, by = c(\"SKU\", \"Date\")\n",
      "Joining, by = c(\"SKU\", \"Date\")\n",
      "Joining, by = c(\"SKU\", \"Date\")\n",
      "Joining, by = c(\"SKU\", \"Date\")\n",
      "Joining, by = \"SKU\"\n",
      "Joining, by = \"SKU\"\n",
      "Joining, by = c(\"SKU\", \"Date\")\n",
      "Joining, by = c(\"SKU\", \"Date\")\n",
      "Joining, by = c(\"SKU\", \"Date\")\n",
      "Joining, by = c(\"SKU\", \"Date\")\n",
      "Joining, by = c(\"SKU\", \"Date\")\n",
      "Joining, by = c(\"SKU\", \"Date\")\n",
      "Joining, by = c(\"SKU\", \"Date\")\n",
      "Joining, by = \"SKU\"\n",
      "Joining, by = \"SKU\"\n",
      "Joining, by = c(\"SKU\", \"Date\")\n",
      "Joining, by = c(\"SKU\", \"Date\")\n",
      "Joining, by = c(\"SKU\", \"Date\")\n",
      "Joining, by = c(\"SKU\", \"Date\")\n",
      "Joining, by = c(\"SKU\", \"Date\")\n",
      "Joining, by = c(\"SKU\", \"Date\")\n",
      "Joining, by = c(\"SKU\", \"Date\")\n"
     ]
    }
   ],
   "source": [
    "result <- foreach(i=1:length(plan), .combine = rbind.data.frame) %dopar% \n",
    "                {\n",
    "                  data <- extractdata(plan[i], datarange)\n",
    "                  data <- ROProcessing(data, maxdate, report)\n",
    "                  cbind.data.frame(Plan=plan[i],data)\n",
    "                }"
   ]
  },
  {
   "cell_type": "markdown",
   "id": "71b4b68e",
   "metadata": {},
   "source": [
    "## The resultant long format file"
   ]
  },
  {
   "cell_type": "code",
   "execution_count": 39,
   "id": "2382c217",
   "metadata": {},
   "outputs": [
    {
     "data": {
      "text/html": [
       "<table>\n",
       "<thead><tr><th scope=col>Plan</th><th scope=col>SKU</th><th scope=col>Date</th><th scope=col>Agency</th><th scope=col>Brand</th><th scope=col>Desc...4</th><th scope=col>Desc...5</th><th scope=col>Super.Category</th><th scope=col>Literage</th><th scope=col>Pack</th><th scope=col>...</th><th scope=col>Closing.inv.CA</th><th scope=col>Avg.CA</th><th scope=col>SD.Stocks</th><th scope=col>StockDays</th><th scope=col>OOS.CA</th><th scope=col>Time.Fence</th><th scope=col>Year</th><th scope=col>Month</th><th scope=col>Excess.CA</th><th scope=col>Scheduled.CA</th></tr></thead>\n",
       "<tbody>\n",
       "\t<tr><td>Region 1    </td><td>Product 1002</td><td>2021-04-01  </td><td>Supplier 89 </td><td>Band 216    </td><td>Desc 1002   </td><td>Desc 1013   </td><td>Category 2  </td><td>4.5         </td><td>6           </td><td>...         </td><td>0.000       </td><td>0.6667      </td><td>1.156       </td><td> 0          </td><td>0           </td><td>2021-09-01  </td><td>2021        </td><td>Apr         </td><td>0           </td><td> 0.000      </td></tr>\n",
       "\t<tr><td>Region 1    </td><td>Product 1002</td><td>2021-05-01  </td><td>Supplier 89 </td><td>Band 216    </td><td>Desc 1002   </td><td>Desc 1013   </td><td>Category 2  </td><td>4.5         </td><td>6           </td><td>...         </td><td>0.000       </td><td>1.0000      </td><td>1.733       </td><td> 0          </td><td>0           </td><td>2021-09-01  </td><td>2021        </td><td>May         </td><td>0           </td><td> 0.000      </td></tr>\n",
       "\t<tr><td>Region 1    </td><td>Product 1002</td><td>2021-06-01  </td><td>Supplier 89 </td><td>Band 216    </td><td>Desc 1002   </td><td>Desc 1013   </td><td>Category 2  </td><td>4.5         </td><td>6           </td><td>...         </td><td>0.000       </td><td>1.6667      </td><td>2.889       </td><td> 0          </td><td>0           </td><td>2021-09-01  </td><td>2021        </td><td>Jun         </td><td>0           </td><td> 0.000      </td></tr>\n",
       "\t<tr><td>Region 1    </td><td>Product 1002</td><td>2021-07-01  </td><td>Supplier 89 </td><td>Band 216    </td><td>Desc 1002   </td><td>Desc 1013   </td><td>Category 2  </td><td>4.5         </td><td>6           </td><td>...         </td><td>0.000       </td><td>2.3333      </td><td>4.044       </td><td> 0          </td><td>3           </td><td>2021-09-01  </td><td>2021        </td><td>Jul         </td><td>0           </td><td>11.933      </td></tr>\n",
       "\t<tr><td>Region 1    </td><td>Product 1002</td><td>2021-08-01  </td><td>Supplier 89 </td><td>Band 216    </td><td>Desc 1002   </td><td>Desc 1013   </td><td>Category 2  </td><td>4.5         </td><td>6           </td><td>...         </td><td>0.000       </td><td>2.3333      </td><td>4.044       </td><td> 0          </td><td>2           </td><td>2021-09-01  </td><td>2021        </td><td>Aug         </td><td>0           </td><td> 1.422      </td></tr>\n",
       "\t<tr><td>Region 1    </td><td>Product 1002</td><td>2021-09-01  </td><td>Supplier 89 </td><td>Band 216    </td><td>Desc 1002   </td><td>Desc 1013   </td><td>Category 2  </td><td>4.5         </td><td>6           </td><td>...         </td><td>4.044       </td><td>2.3333      </td><td>4.044       </td><td>52          </td><td>0           </td><td>2021-09-01  </td><td>2021        </td><td>Sep         </td><td>0           </td><td> 7.000      </td></tr>\n",
       "</tbody>\n",
       "</table>\n"
      ],
      "text/latex": [
       "\\begin{tabular}{r|llllllllllllllllllllllllllllll}\n",
       " Plan & SKU & Date & Agency & Brand & Desc...4 & Desc...5 & Super.Category & Literage & Pack & ... & Closing.inv.CA & Avg.CA & SD.Stocks & StockDays & OOS.CA & Time.Fence & Year & Month & Excess.CA & Scheduled.CA\\\\\n",
       "\\hline\n",
       "\t Region 1     & Product 1002 & 2021-04-01   & Supplier 89  & Band 216     & Desc 1002    & Desc 1013    & Category 2   & 4.5          & 6            & ...          & 0.000        & 0.6667       & 1.156        &  0           & 0            & 2021-09-01   & 2021         & Apr          & 0            &  0.000      \\\\\n",
       "\t Region 1     & Product 1002 & 2021-05-01   & Supplier 89  & Band 216     & Desc 1002    & Desc 1013    & Category 2   & 4.5          & 6            & ...          & 0.000        & 1.0000       & 1.733        &  0           & 0            & 2021-09-01   & 2021         & May          & 0            &  0.000      \\\\\n",
       "\t Region 1     & Product 1002 & 2021-06-01   & Supplier 89  & Band 216     & Desc 1002    & Desc 1013    & Category 2   & 4.5          & 6            & ...          & 0.000        & 1.6667       & 2.889        &  0           & 0            & 2021-09-01   & 2021         & Jun          & 0            &  0.000      \\\\\n",
       "\t Region 1     & Product 1002 & 2021-07-01   & Supplier 89  & Band 216     & Desc 1002    & Desc 1013    & Category 2   & 4.5          & 6            & ...          & 0.000        & 2.3333       & 4.044        &  0           & 3            & 2021-09-01   & 2021         & Jul          & 0            & 11.933      \\\\\n",
       "\t Region 1     & Product 1002 & 2021-08-01   & Supplier 89  & Band 216     & Desc 1002    & Desc 1013    & Category 2   & 4.5          & 6            & ...          & 0.000        & 2.3333       & 4.044        &  0           & 2            & 2021-09-01   & 2021         & Aug          & 0            &  1.422      \\\\\n",
       "\t Region 1     & Product 1002 & 2021-09-01   & Supplier 89  & Band 216     & Desc 1002    & Desc 1013    & Category 2   & 4.5          & 6            & ...          & 4.044        & 2.3333       & 4.044        & 52           & 0            & 2021-09-01   & 2021         & Sep          & 0            &  7.000      \\\\\n",
       "\\end{tabular}\n"
      ],
      "text/markdown": [
       "\n",
       "| Plan | SKU | Date | Agency | Brand | Desc...4 | Desc...5 | Super.Category | Literage | Pack | ... | Closing.inv.CA | Avg.CA | SD.Stocks | StockDays | OOS.CA | Time.Fence | Year | Month | Excess.CA | Scheduled.CA |\n",
       "|---|---|---|---|---|---|---|---|---|---|---|---|---|---|---|---|---|---|---|---|---|\n",
       "| Region 1     | Product 1002 | 2021-04-01   | Supplier 89  | Band 216     | Desc 1002    | Desc 1013    | Category 2   | 4.5          | 6            | ...          | 0.000        | 0.6667       | 1.156        |  0           | 0            | 2021-09-01   | 2021         | Apr          | 0            |  0.000       |\n",
       "| Region 1     | Product 1002 | 2021-05-01   | Supplier 89  | Band 216     | Desc 1002    | Desc 1013    | Category 2   | 4.5          | 6            | ...          | 0.000        | 1.0000       | 1.733        |  0           | 0            | 2021-09-01   | 2021         | May          | 0            |  0.000       |\n",
       "| Region 1     | Product 1002 | 2021-06-01   | Supplier 89  | Band 216     | Desc 1002    | Desc 1013    | Category 2   | 4.5          | 6            | ...          | 0.000        | 1.6667       | 2.889        |  0           | 0            | 2021-09-01   | 2021         | Jun          | 0            |  0.000       |\n",
       "| Region 1     | Product 1002 | 2021-07-01   | Supplier 89  | Band 216     | Desc 1002    | Desc 1013    | Category 2   | 4.5          | 6            | ...          | 0.000        | 2.3333       | 4.044        |  0           | 3            | 2021-09-01   | 2021         | Jul          | 0            | 11.933       |\n",
       "| Region 1     | Product 1002 | 2021-08-01   | Supplier 89  | Band 216     | Desc 1002    | Desc 1013    | Category 2   | 4.5          | 6            | ...          | 0.000        | 2.3333       | 4.044        |  0           | 2            | 2021-09-01   | 2021         | Aug          | 0            |  1.422       |\n",
       "| Region 1     | Product 1002 | 2021-09-01   | Supplier 89  | Band 216     | Desc 1002    | Desc 1013    | Category 2   | 4.5          | 6            | ...          | 4.044        | 2.3333       | 4.044        | 52           | 0            | 2021-09-01   | 2021         | Sep          | 0            |  7.000       |\n",
       "\n"
      ],
      "text/plain": [
       "  Plan     SKU          Date       Agency      Brand    Desc...4  Desc...5 \n",
       "1 Region 1 Product 1002 2021-04-01 Supplier 89 Band 216 Desc 1002 Desc 1013\n",
       "2 Region 1 Product 1002 2021-05-01 Supplier 89 Band 216 Desc 1002 Desc 1013\n",
       "3 Region 1 Product 1002 2021-06-01 Supplier 89 Band 216 Desc 1002 Desc 1013\n",
       "4 Region 1 Product 1002 2021-07-01 Supplier 89 Band 216 Desc 1002 Desc 1013\n",
       "5 Region 1 Product 1002 2021-08-01 Supplier 89 Band 216 Desc 1002 Desc 1013\n",
       "6 Region 1 Product 1002 2021-09-01 Supplier 89 Band 216 Desc 1002 Desc 1013\n",
       "  Super.Category Literage Pack ... Closing.inv.CA Avg.CA SD.Stocks StockDays\n",
       "1 Category 2     4.5      6    ... 0.000          0.6667 1.156      0       \n",
       "2 Category 2     4.5      6    ... 0.000          1.0000 1.733      0       \n",
       "3 Category 2     4.5      6    ... 0.000          1.6667 2.889      0       \n",
       "4 Category 2     4.5      6    ... 0.000          2.3333 4.044      0       \n",
       "5 Category 2     4.5      6    ... 0.000          2.3333 4.044      0       \n",
       "6 Category 2     4.5      6    ... 4.044          2.3333 4.044     52       \n",
       "  OOS.CA Time.Fence Year Month Excess.CA Scheduled.CA\n",
       "1 0      2021-09-01 2021 Apr   0          0.000      \n",
       "2 0      2021-09-01 2021 May   0          0.000      \n",
       "3 0      2021-09-01 2021 Jun   0          0.000      \n",
       "4 3      2021-09-01 2021 Jul   0         11.933      \n",
       "5 2      2021-09-01 2021 Aug   0          1.422      \n",
       "6 0      2021-09-01 2021 Sep   0          7.000      "
      ]
     },
     "metadata": {},
     "output_type": "display_data"
    }
   ],
   "source": [
    "head(result)"
   ]
  },
  {
   "cell_type": "markdown",
   "id": "6d9db0b6",
   "metadata": {},
   "source": [
    "## Lets apply some segmentation data like ABC classification on the above file"
   ]
  },
  {
   "cell_type": "code",
   "execution_count": 40,
   "id": "8b7acfd9",
   "metadata": {},
   "outputs": [],
   "source": [
    "abcrun1 <- function(abcvol,x=0.8,y=0.15,z=0.05){\n",
    "  sc1 <- unique(abcvol$Plan)\n",
    "  for (j in 1:length(sc1)){\n",
    "    tempsc <- abcvol[abcvol$Plan == sc1[j],]\n",
    "    if(j==1){\n",
    "      abc1 <-abcrun3(tempsc,x,y,z) #ABC Classification\n",
    "    }else{\n",
    "      abc1 <- rbind(abc1, abcrun3(tempsc,x,y,z)) #ABC Classification\n",
    "    }\n",
    "  }\n",
    "  return(abc1)\n",
    "}\n",
    "\n",
    "abcrun3 <- function(abcvol,x=0.8,y=0.15,z=0.05){\n",
    "  sc3 <- unique(abcvol$Super.Category)\n",
    "  for (j in 1:length(sc3)){\n",
    "    tempsc <- abcvol[abcvol$Super.Category == sc3[j],]\n",
    "    if(j==1){\n",
    "      abc3 <-abcbasic(tempsc,x,y,z) #ABC Classification\n",
    "    }else{\n",
    "      abc3 <- rbind(abc3, abcbasic(tempsc,x,y,z)) #ABC Classification\n",
    "    }\n",
    "  }\n",
    "  return(abc3)\n",
    "}\n",
    "\n",
    "\n",
    "abcbasic <- function(data1, x=0.8,y=0.15,z=0.05){\n",
    "  \n",
    "  abc <- data1\n",
    "  names(abc)[length(names(abc))] <- \"values\"\n",
    "  j <- x + y + z\n",
    "  abc <- arrange(abc, -values)\n",
    "  cumdecending <- cumsum(arrange(abc, -values)$values)\n",
    "  cumascending <-cumsum(arrange(abc, values)$values)\n",
    "  tot <- sum(abc$values)\n",
    "  cnt <- length(abc$values)\n",
    "  acutoff <- x * tot\n",
    "  bcutoff <- y * tot\n",
    "  ccutoff <- z * tot\n",
    "  a <- 0\n",
    "  b <- 0\n",
    "  c <- 0\n",
    "  a <- min(which(cumdecending > acutoff))\n",
    "  if(a < cnt){\n",
    "    if(ccutoff >= cumascending[1]){\n",
    "      c <- max(which(cumascending < ccutoff))\n",
    "    }else if(ccutoff == cumascending[1]){\n",
    "      c <- 1\n",
    "    }else{\n",
    "      c <- 0\n",
    "    }\n",
    "  }\n",
    "  if(a+c < cnt){\n",
    "    b <- cnt - (a+c)\n",
    "  }\n",
    "  if(a+b+c > cnt){\n",
    "    ABClass <- c(rep(\"A\", a),rep(\"B\", b),rep(\"C\", c-1))\n",
    "  }else if(a+b+c < cnt){\n",
    "    ABClass <- c(rep(\"A\", a),rep(\"B\", b),rep(\"C\", c+1))\n",
    "  }else{\n",
    "    ABClass <- c(rep(\"A\", a),rep(\"B\", b),rep(\"C\", c))\n",
    "  }\n",
    "  abc <- cbind(abc, ABClass)\n",
    "  for (i in 1:length(names(data1))){\n",
    "    if(names(data1)[i] == \"ItemId\"){\n",
    "      break\n",
    "    }\n",
    "  }\n",
    "  data1 <- merge(x=data1, y = abc[,c(i,length(abc))], by = c(\"ItemId\"), all.x = T)\n",
    "  return(data1)\n",
    "  \n",
    "}\n"
   ]
  },
  {
   "cell_type": "markdown",
   "id": "99aae353",
   "metadata": {},
   "source": [
    "## To apply ABC Classification we load a 6 months sales dataset for the products. At a Region, Category and SKU level"
   ]
  },
  {
   "cell_type": "code",
   "execution_count": 41,
   "id": "bc290025",
   "metadata": {},
   "outputs": [],
   "source": [
    "abcvol <- read.csv(\"abcvol.csv\", header=T, sep=\",\", stringsAsFactors=FALSE)\n",
    "abc <- abcrun1(abcvol,x=0.8,y=0.15,z=0.05)\n",
    "write_csv(abc,\"abc.csv\")"
   ]
  },
  {
   "cell_type": "markdown",
   "id": "e28e8cb7",
   "metadata": {},
   "source": [
    "## Combining both datasets"
   ]
  },
  {
   "cell_type": "code",
   "execution_count": 42,
   "id": "1244077e",
   "metadata": {},
   "outputs": [],
   "source": [
    "result <- result %>% left_join(abc[,c(1,3,6)], by=c(\"SKU\"=\"ItemId\",\"Plan\"=\"Plan\")) \n",
    "result$ABClass[is.na(result$ABClass)] <- \"C\""
   ]
  },
  {
   "cell_type": "code",
   "execution_count": 43,
   "id": "703a5389",
   "metadata": {},
   "outputs": [
    {
     "data": {
      "text/html": [
       "<table>\n",
       "<thead><tr><th scope=col>Plan</th><th scope=col>SKU</th><th scope=col>Date</th><th scope=col>Agency</th><th scope=col>Brand</th><th scope=col>Desc...4</th><th scope=col>Desc...5</th><th scope=col>Super.Category</th><th scope=col>Literage</th><th scope=col>Pack</th><th scope=col>...</th><th scope=col>Avg.CA</th><th scope=col>SD.Stocks</th><th scope=col>StockDays</th><th scope=col>OOS.CA</th><th scope=col>Time.Fence</th><th scope=col>Year</th><th scope=col>Month</th><th scope=col>Excess.CA</th><th scope=col>Scheduled.CA</th><th scope=col>ABClass</th></tr></thead>\n",
       "<tbody>\n",
       "\t<tr><td>Region 1    </td><td>Product 1002</td><td>2021-04-01  </td><td>Supplier 89 </td><td>Band 216    </td><td>Desc 1002   </td><td>Desc 1013   </td><td>Category 2  </td><td>4.5         </td><td>6           </td><td>...         </td><td>0.6667      </td><td>1.156       </td><td> 0          </td><td>0           </td><td>2021-09-01  </td><td>2021        </td><td>Apr         </td><td>0           </td><td> 0.000      </td><td>C           </td></tr>\n",
       "\t<tr><td>Region 1    </td><td>Product 1002</td><td>2021-05-01  </td><td>Supplier 89 </td><td>Band 216    </td><td>Desc 1002   </td><td>Desc 1013   </td><td>Category 2  </td><td>4.5         </td><td>6           </td><td>...         </td><td>1.0000      </td><td>1.733       </td><td> 0          </td><td>0           </td><td>2021-09-01  </td><td>2021        </td><td>May         </td><td>0           </td><td> 0.000      </td><td>C           </td></tr>\n",
       "\t<tr><td>Region 1    </td><td>Product 1002</td><td>2021-06-01  </td><td>Supplier 89 </td><td>Band 216    </td><td>Desc 1002   </td><td>Desc 1013   </td><td>Category 2  </td><td>4.5         </td><td>6           </td><td>...         </td><td>1.6667      </td><td>2.889       </td><td> 0          </td><td>0           </td><td>2021-09-01  </td><td>2021        </td><td>Jun         </td><td>0           </td><td> 0.000      </td><td>C           </td></tr>\n",
       "\t<tr><td>Region 1    </td><td>Product 1002</td><td>2021-07-01  </td><td>Supplier 89 </td><td>Band 216    </td><td>Desc 1002   </td><td>Desc 1013   </td><td>Category 2  </td><td>4.5         </td><td>6           </td><td>...         </td><td>2.3333      </td><td>4.044       </td><td> 0          </td><td>3           </td><td>2021-09-01  </td><td>2021        </td><td>Jul         </td><td>0           </td><td>11.933      </td><td>C           </td></tr>\n",
       "\t<tr><td>Region 1    </td><td>Product 1002</td><td>2021-08-01  </td><td>Supplier 89 </td><td>Band 216    </td><td>Desc 1002   </td><td>Desc 1013   </td><td>Category 2  </td><td>4.5         </td><td>6           </td><td>...         </td><td>2.3333      </td><td>4.044       </td><td> 0          </td><td>2           </td><td>2021-09-01  </td><td>2021        </td><td>Aug         </td><td>0           </td><td> 1.422      </td><td>C           </td></tr>\n",
       "\t<tr><td>Region 1    </td><td>Product 1002</td><td>2021-09-01  </td><td>Supplier 89 </td><td>Band 216    </td><td>Desc 1002   </td><td>Desc 1013   </td><td>Category 2  </td><td>4.5         </td><td>6           </td><td>...         </td><td>2.3333      </td><td>4.044       </td><td>52          </td><td>0           </td><td>2021-09-01  </td><td>2021        </td><td>Sep         </td><td>0           </td><td> 7.000      </td><td>C           </td></tr>\n",
       "</tbody>\n",
       "</table>\n"
      ],
      "text/latex": [
       "\\begin{tabular}{r|lllllllllllllllllllllllllllllll}\n",
       " Plan & SKU & Date & Agency & Brand & Desc...4 & Desc...5 & Super.Category & Literage & Pack & ... & Avg.CA & SD.Stocks & StockDays & OOS.CA & Time.Fence & Year & Month & Excess.CA & Scheduled.CA & ABClass\\\\\n",
       "\\hline\n",
       "\t Region 1     & Product 1002 & 2021-04-01   & Supplier 89  & Band 216     & Desc 1002    & Desc 1013    & Category 2   & 4.5          & 6            & ...          & 0.6667       & 1.156        &  0           & 0            & 2021-09-01   & 2021         & Apr          & 0            &  0.000       & C           \\\\\n",
       "\t Region 1     & Product 1002 & 2021-05-01   & Supplier 89  & Band 216     & Desc 1002    & Desc 1013    & Category 2   & 4.5          & 6            & ...          & 1.0000       & 1.733        &  0           & 0            & 2021-09-01   & 2021         & May          & 0            &  0.000       & C           \\\\\n",
       "\t Region 1     & Product 1002 & 2021-06-01   & Supplier 89  & Band 216     & Desc 1002    & Desc 1013    & Category 2   & 4.5          & 6            & ...          & 1.6667       & 2.889        &  0           & 0            & 2021-09-01   & 2021         & Jun          & 0            &  0.000       & C           \\\\\n",
       "\t Region 1     & Product 1002 & 2021-07-01   & Supplier 89  & Band 216     & Desc 1002    & Desc 1013    & Category 2   & 4.5          & 6            & ...          & 2.3333       & 4.044        &  0           & 3            & 2021-09-01   & 2021         & Jul          & 0            & 11.933       & C           \\\\\n",
       "\t Region 1     & Product 1002 & 2021-08-01   & Supplier 89  & Band 216     & Desc 1002    & Desc 1013    & Category 2   & 4.5          & 6            & ...          & 2.3333       & 4.044        &  0           & 2            & 2021-09-01   & 2021         & Aug          & 0            &  1.422       & C           \\\\\n",
       "\t Region 1     & Product 1002 & 2021-09-01   & Supplier 89  & Band 216     & Desc 1002    & Desc 1013    & Category 2   & 4.5          & 6            & ...          & 2.3333       & 4.044        & 52           & 0            & 2021-09-01   & 2021         & Sep          & 0            &  7.000       & C           \\\\\n",
       "\\end{tabular}\n"
      ],
      "text/markdown": [
       "\n",
       "| Plan | SKU | Date | Agency | Brand | Desc...4 | Desc...5 | Super.Category | Literage | Pack | ... | Avg.CA | SD.Stocks | StockDays | OOS.CA | Time.Fence | Year | Month | Excess.CA | Scheduled.CA | ABClass |\n",
       "|---|---|---|---|---|---|---|---|---|---|---|---|---|---|---|---|---|---|---|---|---|\n",
       "| Region 1     | Product 1002 | 2021-04-01   | Supplier 89  | Band 216     | Desc 1002    | Desc 1013    | Category 2   | 4.5          | 6            | ...          | 0.6667       | 1.156        |  0           | 0            | 2021-09-01   | 2021         | Apr          | 0            |  0.000       | C            |\n",
       "| Region 1     | Product 1002 | 2021-05-01   | Supplier 89  | Band 216     | Desc 1002    | Desc 1013    | Category 2   | 4.5          | 6            | ...          | 1.0000       | 1.733        |  0           | 0            | 2021-09-01   | 2021         | May          | 0            |  0.000       | C            |\n",
       "| Region 1     | Product 1002 | 2021-06-01   | Supplier 89  | Band 216     | Desc 1002    | Desc 1013    | Category 2   | 4.5          | 6            | ...          | 1.6667       | 2.889        |  0           | 0            | 2021-09-01   | 2021         | Jun          | 0            |  0.000       | C            |\n",
       "| Region 1     | Product 1002 | 2021-07-01   | Supplier 89  | Band 216     | Desc 1002    | Desc 1013    | Category 2   | 4.5          | 6            | ...          | 2.3333       | 4.044        |  0           | 3            | 2021-09-01   | 2021         | Jul          | 0            | 11.933       | C            |\n",
       "| Region 1     | Product 1002 | 2021-08-01   | Supplier 89  | Band 216     | Desc 1002    | Desc 1013    | Category 2   | 4.5          | 6            | ...          | 2.3333       | 4.044        |  0           | 2            | 2021-09-01   | 2021         | Aug          | 0            |  1.422       | C            |\n",
       "| Region 1     | Product 1002 | 2021-09-01   | Supplier 89  | Band 216     | Desc 1002    | Desc 1013    | Category 2   | 4.5          | 6            | ...          | 2.3333       | 4.044        | 52           | 0            | 2021-09-01   | 2021         | Sep          | 0            |  7.000       | C            |\n",
       "\n"
      ],
      "text/plain": [
       "  Plan     SKU          Date       Agency      Brand    Desc...4  Desc...5 \n",
       "1 Region 1 Product 1002 2021-04-01 Supplier 89 Band 216 Desc 1002 Desc 1013\n",
       "2 Region 1 Product 1002 2021-05-01 Supplier 89 Band 216 Desc 1002 Desc 1013\n",
       "3 Region 1 Product 1002 2021-06-01 Supplier 89 Band 216 Desc 1002 Desc 1013\n",
       "4 Region 1 Product 1002 2021-07-01 Supplier 89 Band 216 Desc 1002 Desc 1013\n",
       "5 Region 1 Product 1002 2021-08-01 Supplier 89 Band 216 Desc 1002 Desc 1013\n",
       "6 Region 1 Product 1002 2021-09-01 Supplier 89 Band 216 Desc 1002 Desc 1013\n",
       "  Super.Category Literage Pack ... Avg.CA SD.Stocks StockDays OOS.CA Time.Fence\n",
       "1 Category 2     4.5      6    ... 0.6667 1.156      0        0      2021-09-01\n",
       "2 Category 2     4.5      6    ... 1.0000 1.733      0        0      2021-09-01\n",
       "3 Category 2     4.5      6    ... 1.6667 2.889      0        0      2021-09-01\n",
       "4 Category 2     4.5      6    ... 2.3333 4.044      0        3      2021-09-01\n",
       "5 Category 2     4.5      6    ... 2.3333 4.044      0        2      2021-09-01\n",
       "6 Category 2     4.5      6    ... 2.3333 4.044     52        0      2021-09-01\n",
       "  Year Month Excess.CA Scheduled.CA ABClass\n",
       "1 2021 Apr   0          0.000       C      \n",
       "2 2021 May   0          0.000       C      \n",
       "3 2021 Jun   0          0.000       C      \n",
       "4 2021 Jul   0         11.933       C      \n",
       "5 2021 Aug   0          1.422       C      \n",
       "6 2021 Sep   0          7.000       C      "
      ]
     },
     "metadata": {},
     "output_type": "display_data"
    }
   ],
   "source": [
    "head(result)"
   ]
  },
  {
   "cell_type": "markdown",
   "id": "63279dcf",
   "metadata": {},
   "source": [
    "## The results are then downloaded. We will see the summaries for the file in the summary workfile"
   ]
  },
  {
   "cell_type": "code",
   "execution_count": 44,
   "id": "b8c15ef3",
   "metadata": {},
   "outputs": [],
   "source": [
    "write.csv(result,\"result.csv\",row.names = F)"
   ]
  },
  {
   "cell_type": "markdown",
   "id": "01676ca3",
   "metadata": {},
   "source": [
    "## Now lets Summarize the above results. Please click the below link"
   ]
  },
  {
   "cell_type": "markdown",
   "id": "37e0c748",
   "metadata": {},
   "source": [
    "[Supply Planning Summary Notebook](SupplyPlanningSummaryandVisualization.ipynb)"
   ]
  },
  {
   "cell_type": "code",
   "execution_count": null,
   "id": "a0456c06",
   "metadata": {},
   "outputs": [],
   "source": []
  }
 ],
 "metadata": {
  "kernelspec": {
   "display_name": "R",
   "language": "R",
   "name": "ir"
  },
  "language_info": {
   "codemirror_mode": "r",
   "file_extension": ".r",
   "mimetype": "text/x-r-source",
   "name": "R",
   "pygments_lexer": "r",
   "version": "3.6.1"
  },
  "varInspector": {
   "cols": {
    "lenName": 16,
    "lenType": 16,
    "lenVar": 40
   },
   "kernels_config": {
    "python": {
     "delete_cmd_postfix": "",
     "delete_cmd_prefix": "del ",
     "library": "var_list.py",
     "varRefreshCmd": "print(var_dic_list())"
    },
    "r": {
     "delete_cmd_postfix": ") ",
     "delete_cmd_prefix": "rm(",
     "library": "var_list.r",
     "varRefreshCmd": "cat(var_dic_list()) "
    }
   },
   "types_to_exclude": [
    "module",
    "function",
    "builtin_function_or_method",
    "instance",
    "_Feature"
   ],
   "window_display": false
  }
 },
 "nbformat": 4,
 "nbformat_minor": 5
}
